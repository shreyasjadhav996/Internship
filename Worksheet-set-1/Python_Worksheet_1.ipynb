{
 "cells": [
  {
   "cell_type": "markdown",
   "id": "f08052f2",
   "metadata": {},
   "source": [
    "# 11. Write a python program to find the factorial of a number. "
   ]
  },
  {
   "cell_type": "code",
   "execution_count": 5,
   "id": "5fcfa110",
   "metadata": {},
   "outputs": [
    {
     "name": "stdout",
     "output_type": "stream",
     "text": [
      "The factorial of 5 (iterative) is: 120\n"
     ]
    }
   ],
   "source": [
    "def factorial_iterative(n):\n",
    "    if n<0:\n",
    "        return\n",
    "    result = 1\n",
    "    for i in range(1,1+n):\n",
    "        result *= i\n",
    "    return result\n",
    "\n",
    "number = 5\n",
    "print(f\"The factorial of {number} (iterative) is: {factorial_iterative(number)}\")"
   ]
  },
  {
   "cell_type": "code",
   "execution_count": 10,
   "id": "8adb4310",
   "metadata": {},
   "outputs": [
    {
     "name": "stdout",
     "output_type": "stream",
     "text": [
      "The factorial of 5 (recursive) is: 120\n"
     ]
    }
   ],
   "source": [
    "def factorial_recursive(n):\n",
    "    if n < 0:\n",
    "        return \n",
    "    if n == 0 or n == 1:\n",
    "        return 1\n",
    "    else:\n",
    "        return n * factorial_recursive(n - 1)\n",
    "\n",
    "number = 5\n",
    "print(f\"The factorial of {number} (recursive) is: {factorial_recursive(number)}\")\n"
   ]
  },
  {
   "cell_type": "markdown",
   "id": "39c94211",
   "metadata": {},
   "source": [
    "# 12. Write a python program to find whether a number is prime or composite. "
   ]
  },
  {
   "cell_type": "code",
   "execution_count": 13,
   "id": "8b6ad018",
   "metadata": {},
   "outputs": [
    {
     "name": "stdout",
     "output_type": "stream",
     "text": [
      "29 is a prime number.\n"
     ]
    }
   ],
   "source": [
    "def is_prime(n):\n",
    "    if n <= 1:\n",
    "        return False  # 0 and 1 are not prime numbers\n",
    "    if n <= 3:\n",
    "        return True   # 2 and 3 are prime numbers\n",
    "\n",
    "    if n % 2 == 0 or n % 3 == 0:\n",
    "        return False  # Multiple of 2 or 3 are not prime\n",
    "\n",
    "    i = 5\n",
    "    while i * i <= n:\n",
    "        if n % i == 0 or n % (i + 2) == 0:\n",
    "            return False\n",
    "        i += 6\n",
    "    return True\n",
    "\n",
    "def check_prime_composite(n):\n",
    "    if n <= 1:\n",
    "        return f\"{n} is neither prime nor composite.\"\n",
    "    if is_prime(n):\n",
    "        return f\"{n} is a prime number.\"\n",
    "    else:\n",
    "        return f\"{n} is a composite number.\"\n",
    "\n",
    "number = 29\n",
    "print(check_prime_composite(number))\n"
   ]
  },
  {
   "cell_type": "markdown",
   "id": "9fe8f18f",
   "metadata": {},
   "source": [
    "# 13. Write a python program to check whether a given string is palindrome or not. "
   ]
  },
  {
   "cell_type": "code",
   "execution_count": 16,
   "id": "7eedcd14",
   "metadata": {},
   "outputs": [
    {
     "name": "stdout",
     "output_type": "stream",
     "text": [
      "\"A man, a plan, a canal: Panama\" is a palindrome.\n"
     ]
    }
   ],
   "source": [
    "def is_palindrome(s):\n",
    "    \n",
    "    cleaned_string = ''.join(char.lower() for char in s if char.isalnum())\n",
    "    \n",
    "    return cleaned_string == cleaned_string[::-1]\n",
    "\n",
    "string = \"A man, a plan, a canal: Panama\"\n",
    "if is_palindrome(string):\n",
    "    print(f'\"{string}\" is a palindrome.')\n",
    "else:\n",
    "    print(f'\"{string}\" is not a palindrome.')\n"
   ]
  },
  {
   "cell_type": "markdown",
   "id": "c2e0e133",
   "metadata": {},
   "source": [
    "# 14. Write a Python program to get the third side of right-angled triangle from two given sides. "
   ]
  },
  {
   "cell_type": "code",
   "execution_count": 18,
   "id": "9cd2dcfc",
   "metadata": {},
   "outputs": [
    {
     "name": "stdout",
     "output_type": "stream",
     "text": [
      "The third side of the triangle is: 5.0\n"
     ]
    }
   ],
   "source": [
    "import math\n",
    "\n",
    "def find_third_side(a, b, hypotenuse=False):\n",
    "    if hypotenuse:\n",
    "        \n",
    "        if a > b:\n",
    "            return math.sqrt(a**2 - b**2)\n",
    "        else:\n",
    "            return math.sqrt(b**2 - a**2)\n",
    "    else:\n",
    "        \n",
    "        return math.sqrt(a**2 + b**2)\n",
    "\n",
    "\n",
    "side1 = 3\n",
    "side2 = 4\n",
    "is_hypotenuse = False  \n",
    "\n",
    "third_side = find_third_side(side1, side2, is_hypotenuse)\n",
    "print(f\"The third side of the triangle is: {third_side}\")\n"
   ]
  },
  {
   "cell_type": "markdown",
   "id": "bc6d4770",
   "metadata": {},
   "source": [
    "# 15. Write a python program to print the frequency of each of the characters present in a given string. "
   ]
  },
  {
   "cell_type": "code",
   "execution_count": 20,
   "id": "c737e914",
   "metadata": {},
   "outputs": [
    {
     "name": "stdout",
     "output_type": "stream",
     "text": [
      "Character frequencies in 'hello world':\n",
      "'h': 1\n",
      "'e': 1\n",
      "'l': 3\n",
      "'o': 2\n",
      "' ': 1\n",
      "'w': 1\n",
      "'r': 1\n",
      "'d': 1\n"
     ]
    }
   ],
   "source": [
    "def character_frequency(s):\n",
    "    \n",
    "    freq_dict = {}\n",
    "    \n",
    "    \n",
    "    for char in s:\n",
    "        \n",
    "        if char in freq_dict:\n",
    "            freq_dict[char] += 1\n",
    "        else:\n",
    "            freq_dict[char] = 1\n",
    "    \n",
    "    \n",
    "    for char, freq in freq_dict.items():\n",
    "        print(f\"'{char}': {freq}\")\n",
    "\n",
    "\n",
    "input_string = \"hello world\"\n",
    "print(f\"Character frequencies in '{input_string}':\")\n",
    "character_frequency(input_string)\n"
   ]
  }
 ],
 "metadata": {
  "kernelspec": {
   "display_name": "Python 3 (ipykernel)",
   "language": "python",
   "name": "python3"
  },
  "language_info": {
   "codemirror_mode": {
    "name": "ipython",
    "version": 3
   },
   "file_extension": ".py",
   "mimetype": "text/x-python",
   "name": "python",
   "nbconvert_exporter": "python",
   "pygments_lexer": "ipython3",
   "version": "3.11.5"
  }
 },
 "nbformat": 4,
 "nbformat_minor": 5
}
