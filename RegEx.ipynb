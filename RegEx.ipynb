{
 "cells": [
  {
   "cell_type": "markdown",
   "id": "f92d354d",
   "metadata": {},
   "source": [
    "# Question 1\n",
    "\n",
    "Write a RegEx pattern in python program to check that a string contains only a certain set of characters (in this case a-z, A-Z and 0-9)"
   ]
  },
  {
   "cell_type": "code",
   "execution_count": 1,
   "id": "c765ad30",
   "metadata": {},
   "outputs": [],
   "source": [
    "import re"
   ]
  },
  {
   "cell_type": "code",
   "execution_count": 2,
   "id": "8608384d",
   "metadata": {},
   "outputs": [],
   "source": [
    "def is_valid_string(string):\n",
    "    pattern = re.compile(r'[^a-zA-Z0-9]')\n",
    "    match = pattern.search(string)\n",
    "    if match:\n",
    "        return False\n",
    "    return True"
   ]
  },
  {
   "cell_type": "code",
   "execution_count": 3,
   "id": "95488cb1",
   "metadata": {},
   "outputs": [
    {
     "name": "stdout",
     "output_type": "stream",
     "text": [
      "True\n",
      "False\n"
     ]
    }
   ],
   "source": [
    "print(is_valid_string(\"ABCDEFabcdef123450\")) \n",
    "print(is_valid_string(\"*&%@#!}{\"))  "
   ]
  },
  {
   "cell_type": "markdown",
   "id": "9d863cb4",
   "metadata": {},
   "source": [
    "# Question 2\n",
    "Write a RegEx pattern that matches a string that has an a followed by zero or more b's"
   ]
  },
  {
   "cell_type": "code",
   "execution_count": 4,
   "id": "dde64b65",
   "metadata": {},
   "outputs": [],
   "source": [
    "def match_ab(string):\n",
    "    pattern = re.compile(r'ab*')\n",
    "    match = pattern.fullmatch(string)\n",
    "    if match:\n",
    "        return True\n",
    "    return False"
   ]
  },
  {
   "cell_type": "code",
   "execution_count": 5,
   "id": "70b2fd5b",
   "metadata": {},
   "outputs": [
    {
     "name": "stdout",
     "output_type": "stream",
     "text": [
      "True\n",
      "True\n",
      "True\n",
      "False\n",
      "False\n"
     ]
    }
   ],
   "source": [
    "print(match_ab(\"a\"))  \n",
    "print(match_ab(\"ab\")) \n",
    "print(match_ab(\"abb\"))\n",
    "print(match_ab(\"b\"))  \n",
    "print(match_ab(\"abbc\")) "
   ]
  },
  {
   "cell_type": "markdown",
   "id": "881dd02f",
   "metadata": {},
   "source": [
    "# Question 3\n",
    "Write a RegEx pattern that matches a string that has an a followed by one or more b's"
   ]
  },
  {
   "cell_type": "code",
   "execution_count": 6,
   "id": "77fb2732",
   "metadata": {},
   "outputs": [],
   "source": [
    "def match_ab(string):\n",
    "    pattern = re.compile(r'ab+')\n",
    "    match = pattern.fullmatch(string)\n",
    "    if match:\n",
    "        return True\n",
    "    return False"
   ]
  },
  {
   "cell_type": "code",
   "execution_count": 7,
   "id": "dc8b7998",
   "metadata": {},
   "outputs": [
    {
     "name": "stdout",
     "output_type": "stream",
     "text": [
      "False\n",
      "True\n",
      "True\n",
      "False\n",
      "False\n"
     ]
    }
   ],
   "source": [
    "print(match_ab(\"a\"))  \n",
    "print(match_ab(\"ab\"))  \n",
    "print(match_ab(\"abb\")) \n",
    "print(match_ab(\"b\"))  \n",
    "print(match_ab(\"abbc\"))  "
   ]
  },
  {
   "cell_type": "markdown",
   "id": "c9d39ae5",
   "metadata": {},
   "source": [
    "# Question 4\n",
    "Write a RegEx pattern that matches a string that has an a followed by zero or one 'b'"
   ]
  },
  {
   "cell_type": "code",
   "execution_count": 8,
   "id": "d2ff9df8",
   "metadata": {},
   "outputs": [],
   "source": [
    "def match_ab(string):\n",
    "    pattern = re.compile(r'ab?')\n",
    "    match = pattern.fullmatch(string)\n",
    "    if match:\n",
    "        return True\n",
    "    return False"
   ]
  },
  {
   "cell_type": "code",
   "execution_count": 9,
   "id": "a0967882",
   "metadata": {},
   "outputs": [
    {
     "name": "stdout",
     "output_type": "stream",
     "text": [
      "True\n",
      "True\n",
      "False\n",
      "False\n",
      "False\n"
     ]
    }
   ],
   "source": [
    "print(match_ab(\"a\"))  \n",
    "print(match_ab(\"ab\")) \n",
    "print(match_ab(\"abb\"))\n",
    "print(match_ab(\"b\"))  \n",
    "print(match_ab(\"abc\"))  "
   ]
  },
  {
   "cell_type": "markdown",
   "id": "99978913",
   "metadata": {},
   "source": [
    "# Question 5\n",
    "Write a RegEx pattern in python program that matches a string that has an a followed by three 'b'"
   ]
  },
  {
   "cell_type": "code",
   "execution_count": 10,
   "id": "2016e637",
   "metadata": {},
   "outputs": [],
   "source": [
    "def match_ab(string):\n",
    "    pattern = re.compile(r'ab{3}')\n",
    "    match = pattern.fullmatch(string)\n",
    "    if match:\n",
    "        return True\n",
    "    return False"
   ]
  },
  {
   "cell_type": "code",
   "execution_count": 11,
   "id": "21db39d9",
   "metadata": {},
   "outputs": [
    {
     "name": "stdout",
     "output_type": "stream",
     "text": [
      "True\n",
      "False\n",
      "False\n",
      "False\n",
      "False\n"
     ]
    }
   ],
   "source": [
    "print(match_ab(\"abbb\"))\n",
    "print(match_ab(\"ab\"))  \n",
    "print(match_ab(\"abbbb\"))\n",
    "print(match_ab(\"a\"))  \n",
    "print(match_ab(\"b\"))  "
   ]
  },
  {
   "cell_type": "markdown",
   "id": "fd7c5a3c",
   "metadata": {},
   "source": [
    "# Question 6\n",
    "Write a RegEx pattern in python program that matches a string that has an a followed by two to three 'b'"
   ]
  },
  {
   "cell_type": "code",
   "execution_count": 12,
   "id": "275f0bdd",
   "metadata": {},
   "outputs": [],
   "source": [
    "def match_ab(string):\n",
    "    pattern = re.compile(r'ab{2,3}')\n",
    "    match = pattern.fullmatch(string)\n",
    "    if match:\n",
    "        return True\n",
    "    return False"
   ]
  },
  {
   "cell_type": "code",
   "execution_count": 13,
   "id": "b34b6aa2",
   "metadata": {},
   "outputs": [
    {
     "name": "stdout",
     "output_type": "stream",
     "text": [
      "True\n",
      "True\n",
      "False\n",
      "False\n",
      "False\n",
      "False\n"
     ]
    }
   ],
   "source": [
    "print(match_ab(\"abb\")) \n",
    "print(match_ab(\"abbb\"))\n",
    "print(match_ab(\"ab\"))  \n",
    "print(match_ab(\"abbbb\"))\n",
    "print(match_ab(\"a\"))  \n",
    "print(match_ab(\"b\"))  "
   ]
  },
  {
   "cell_type": "markdown",
   "id": "075b16d6",
   "metadata": {},
   "source": [
    "# Question 7\n",
    "Write a Python program that matches a string that has an 'a' followed by anything, ending in 'b'"
   ]
  },
  {
   "cell_type": "code",
   "execution_count": 14,
   "id": "ac9f3572",
   "metadata": {},
   "outputs": [],
   "source": [
    "def match_ab(string):\n",
    "    pattern = re.compile(r'a.*b')\n",
    "    match = pattern.fullmatch(string)\n",
    "    if match:\n",
    "        return True\n",
    "    return False"
   ]
  },
  {
   "cell_type": "code",
   "execution_count": 15,
   "id": "335cc72e",
   "metadata": {},
   "outputs": [
    {
     "name": "stdout",
     "output_type": "stream",
     "text": [
      "True\n",
      "True\n",
      "True\n",
      "True\n",
      "False\n",
      "False\n",
      "False\n",
      "False\n"
     ]
    }
   ],
   "source": [
    "print(match_ab(\"axb\"))  \n",
    "print(match_ab(\"a123b\"))\n",
    "print(match_ab(\"a!@#b\"))\n",
    "print(match_ab(\"ab\")) \n",
    "print(match_ab(\"a\"))  \n",
    "print(match_ab(\"b\"))  \n",
    "print(match_ab(\"ax\"))  \n",
    "print(match_ab(\"xb\"))  "
   ]
  },
  {
   "cell_type": "markdown",
   "id": "15b7d03b",
   "metadata": {},
   "source": [
    "# Question 8\n",
    "Write a RegEx pattern in python program that matches a word at the beginning of a string."
   ]
  },
  {
   "cell_type": "code",
   "execution_count": 16,
   "id": "2f5fa6db",
   "metadata": {},
   "outputs": [],
   "source": [
    "def match_word_at_beginning(string, word):\n",
    "    pattern = re.compile(r'^' + re.escape(word))\n",
    "    match = pattern.match(string)\n",
    "    if match:\n",
    "        return True\n",
    "    return False"
   ]
  },
  {
   "cell_type": "code",
   "execution_count": 17,
   "id": "077aad46",
   "metadata": {},
   "outputs": [
    {
     "name": "stdout",
     "output_type": "stream",
     "text": [
      "True\n",
      "False\n",
      "True\n",
      "False\n"
     ]
    }
   ],
   "source": [
    "print(match_word_at_beginning(\"Hello World\", \"Hello\"))\n",
    "print(match_word_at_beginning(\"World Hello\", \"Hello\"))\n",
    "print(match_word_at_beginning(\"HelloHello\", \"Hello\")) \n",
    "print(match_word_at_beginning(\"hello World\", \"Hello\"))"
   ]
  },
  {
   "cell_type": "markdown",
   "id": "074709b3",
   "metadata": {},
   "source": [
    "# Question 9\n",
    "Write a RegEx pattern in python program that matches a word at the end of a string."
   ]
  },
  {
   "cell_type": "code",
   "execution_count": 19,
   "id": "f8a73784",
   "metadata": {},
   "outputs": [],
   "source": [
    "def match_word_at_end(string, word):\n",
    "    pattern = re.compile(re.escape(word) + r'$')\n",
    "    match = pattern.search(string)\n",
    "    if match:\n",
    "        return True\n",
    "    return False"
   ]
  },
  {
   "cell_type": "code",
   "execution_count": 20,
   "id": "c2fc958d",
   "metadata": {},
   "outputs": [
    {
     "name": "stdout",
     "output_type": "stream",
     "text": [
      "True\n",
      "False\n",
      "True\n",
      "True\n",
      "False\n"
     ]
    }
   ],
   "source": [
    "print(match_word_at_end(\"Hello World\", \"World\"))\n",
    "print(match_word_at_end(\"World Hello\", \"World\"))\n",
    "print(match_word_at_end(\"HelloHello\", \"Hello\")) \n",
    "print(match_word_at_end(\"hello World\", \"World\"))\n",
    "print(match_word_at_end(\"Hello World\", \"Hello\"))"
   ]
  },
  {
   "cell_type": "markdown",
   "id": "cb3e7396",
   "metadata": {},
   "source": [
    "# Question 10\n",
    "Write a RegEx pattern in python program to find all words that are 4 digits long in a string.\n",
    "Sample text- '01 0132 231875 1458 301 2725.'\n",
    "\n",
    "Expected output- ['0132', '1458', '2725']\n"
   ]
  },
  {
   "cell_type": "code",
   "execution_count": 21,
   "id": "1ef4dda4",
   "metadata": {},
   "outputs": [
    {
     "name": "stdout",
     "output_type": "stream",
     "text": [
      "['0132', '1458', '2725']\n"
     ]
    }
   ],
   "source": [
    "text = '01 0132 231875 1458 301 2725.'\n",
    "pattern = re.compile(r'\\b\\d{4}\\b')\n",
    "matches = pattern.findall(text)\n",
    "print(matches)  "
   ]
  },
  {
   "cell_type": "code",
   "execution_count": null,
   "id": "c28419d1",
   "metadata": {},
   "outputs": [],
   "source": []
  }
 ],
 "metadata": {
  "kernelspec": {
   "display_name": "Python 3 (ipykernel)",
   "language": "python",
   "name": "python3"
  },
  "language_info": {
   "codemirror_mode": {
    "name": "ipython",
    "version": 3
   },
   "file_extension": ".py",
   "mimetype": "text/x-python",
   "name": "python",
   "nbconvert_exporter": "python",
   "pygments_lexer": "ipython3",
   "version": "3.11.5"
  }
 },
 "nbformat": 4,
 "nbformat_minor": 5
}
