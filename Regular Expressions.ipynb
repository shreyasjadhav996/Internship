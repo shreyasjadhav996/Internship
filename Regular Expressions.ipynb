{
 "cells": [
  {
   "cell_type": "markdown",
   "id": "e8220e96",
   "metadata": {},
   "source": [
    "Question 1- Write a Python program to replace all occurrences of a space, comma, or dot with a colon.\n",
    "Sample Text- 'Python Exercises, PHP exercises.'\n",
    "Expected Output: Python:Exercises::PHP:exercises:\n"
   ]
  },
  {
   "cell_type": "code",
   "execution_count": 1,
   "id": "5657304b",
   "metadata": {},
   "outputs": [
    {
     "name": "stdout",
     "output_type": "stream",
     "text": [
      "Python:Exercises::PHP:exercises:\n"
     ]
    }
   ],
   "source": [
    "import re\n",
    "\n",
    "text = 'Python Exercises, PHP exercises.'\n",
    "\n",
    "result = re.sub(r'[ ,\\.]', ':', text)\n",
    "\n",
    "print(result)\n"
   ]
  },
  {
   "cell_type": "markdown",
   "id": "040ac55b",
   "metadata": {},
   "source": [
    "Question 2-  Create a dataframe using the dictionary below and remove everything (commas (,), !, XXXX, ;, etc.) from the columns except words.\n",
    "Dictionary- {'SUMMARY' : ['hello, world!', 'XXXXX test', '123four, five:; six...']}\n",
    "Expected output-\n",
    "0      hello world\n",
    "1             test\n",
    "2    four five six\n"
   ]
  },
  {
   "cell_type": "code",
   "execution_count": 2,
   "id": "8bd5f70c",
   "metadata": {},
   "outputs": [
    {
     "name": "stdout",
     "output_type": "stream",
     "text": [
      "         SUMMARY\n",
      "0    hello world\n",
      "1     XXXXX test\n",
      "2  four five six\n"
     ]
    }
   ],
   "source": [
    "import pandas as pd\n",
    "import re\n",
    "\n",
    "data = {'SUMMARY': ['hello, world!', 'XXXXX test', '123four, five:; six...']}\n",
    "df = pd.DataFrame(data)\n",
    "\n",
    "def clean_text(text):\n",
    "    text = re.sub(r'[^a-zA-Z\\s]', '', text)\n",
    "    text = re.sub(r'\\s+', ' ', text)\n",
    "    return text.strip()\n",
    "\n",
    "df['SUMMARY'] = df['SUMMARY'].apply(clean_text)\n",
    "\n",
    "print(df)\n"
   ]
  },
  {
   "cell_type": "markdown",
   "id": "581b6961",
   "metadata": {},
   "source": [
    "Question 3- Create a function in python to find all words that are at least 4 characters long in a string. The use of the re.compile() method is mandatory."
   ]
  },
  {
   "cell_type": "code",
   "execution_count": 3,
   "id": "96ad6a91",
   "metadata": {},
   "outputs": [
    {
     "name": "stdout",
     "output_type": "stream",
     "text": [
      "['This', 'test', 'string', 'with', 'some', 'longwords', 'short']\n"
     ]
    }
   ],
   "source": [
    "import re\n",
    "\n",
    "def find_long_words(text):\n",
    "    pattern = re.compile(r'\\b\\w{4,}\\b')\n",
    "    \n",
    "    long_words = pattern.findall(text)\n",
    "    \n",
    "    return long_words\n",
    "\n",
    "text = \"This is a test string with some longwords and short.\"\n",
    "result = find_long_words(text)\n",
    "\n",
    "print(result)\n"
   ]
  },
  {
   "cell_type": "markdown",
   "id": "2dc7a0c9",
   "metadata": {},
   "source": [
    "Question 4- Create a function in python to find all three, four, and five character words in a string. The use of the re.compile() method is mandatory."
   ]
  },
  {
   "cell_type": "code",
   "execution_count": 4,
   "id": "3f46dcc4",
   "metadata": {},
   "outputs": [
    {
     "name": "stdout",
     "output_type": "stream",
     "text": [
      "['This', 'test', 'with', 'some', 'words']\n"
     ]
    }
   ],
   "source": [
    "import re\n",
    "\n",
    "def find_specific_length_words(text):\n",
    "    pattern = re.compile(r'\\b\\w{3,5}\\b')\n",
    "    \n",
    "    specific_length_words = pattern.findall(text)\n",
    "    \n",
    "    return specific_length_words\n",
    "\n",
    "text = \"This is a test string with some words of varying lengths.\"\n",
    "result = find_specific_length_words(text)\n",
    "\n",
    "print(result)\n"
   ]
  },
  {
   "cell_type": "markdown",
   "id": "65defe5c",
   "metadata": {},
   "source": [
    "Question 5- Create a function in Python to remove the parenthesis in a list of strings. The use of the re.compile() method is mandatory.\n",
    "Sample Text: [\"example (.com)\", \"hr@fliprobo (.com)\", \"github (.com)\", \"Hello (Data Science World)\", \"Data (Scientist)\"]\n",
    "Expected Output:\n",
    "example.com\n",
    "hr@fliprobo.com\n",
    "github.com\n",
    "Hello Data Science World\n",
    "Data Scientist\n"
   ]
  },
  {
   "cell_type": "code",
   "execution_count": 5,
   "id": "dfb2e581",
   "metadata": {},
   "outputs": [
    {
     "name": "stdout",
     "output_type": "stream",
     "text": [
      "example\n",
      "hr@fliprobo\n",
      "github\n",
      "Hello\n",
      "Data\n"
     ]
    }
   ],
   "source": [
    "import re\n",
    "\n",
    "def remove_parentheses(text_list):\n",
    "    pattern = re.compile(r'\\s*\\(.*?\\)\\s*')\n",
    "    \n",
    "    cleaned_list = [pattern.sub('', text).strip() for text in text_list]\n",
    "    \n",
    "    return cleaned_list\n",
    "\n",
    "sample_text = [\"example (.com)\", \"hr@fliprobo (.com)\", \"github (.com)\", \"Hello (Data Science World)\", \"Data (Scientist)\"]\n",
    "result = remove_parentheses(sample_text)\n",
    "\n",
    "for item in result:\n",
    "    print(item)\n"
   ]
  },
  {
   "cell_type": "markdown",
   "id": "d4f08651",
   "metadata": {},
   "source": [
    "Question 6- Write a python program to remove the parenthesis area from the text stored in the text file using Regular Expression.\n",
    "Sample Text: [\"example (.com)\", \"hr@fliprobo (.com)\", \"github (.com)\", \"Hello (Data Science World)\", \"Data (Scientist)\"]\n",
    "Expected Output: [\"example\", \"hr@fliprobo\", \"github\", \"Hello\", \"Data\"]\n",
    "Note- Store given sample text in the text file and then to remove the parenthesis area from the text.\n"
   ]
  },
  {
   "cell_type": "code",
   "execution_count": 6,
   "id": "728e6df0",
   "metadata": {},
   "outputs": [
    {
     "name": "stdout",
     "output_type": "stream",
     "text": [
      "['\"example\"', '\"hr@fliprobo\"', '\"github\"', '\"Hello\"', '\"Data\"']\n"
     ]
    }
   ],
   "source": [
    "import re\n",
    "\n",
    "sample_text = '[\"example (.com)\", \"hr@fliprobo (.com)\", \"github (.com)\", \"Hello (Data Science World)\", \"Data (Scientist)\"]'\n",
    "with open('sample_text.txt', 'w') as file:\n",
    "    file.write(sample_text)\n",
    "\n",
    "def remove_parentheses_from_file(filename):\n",
    "    pattern = re.compile(r'\\s*\\(.*?\\)\\s*')\n",
    "    \n",
    "    with open(filename, 'r') as file:\n",
    "        content = file.read()\n",
    "\n",
    "    cleaned_content = pattern.sub('', content)\n",
    "    \n",
    "    cleaned_content = re.sub(r'\\s*,\\s*', ',', cleaned_content)\n",
    "    cleaned_content = re.sub(r'\\[|\\]', '', cleaned_content)\n",
    "    cleaned_list = cleaned_content.split(',')\n",
    "    cleaned_list = [item.strip() for item in cleaned_list]\n",
    "    \n",
    "    return cleaned_list\n",
    "\n",
    "filename = 'sample_text.txt'\n",
    "result = remove_parentheses_from_file(filename)\n",
    "\n",
    "print(result)\n"
   ]
  },
  {
   "cell_type": "markdown",
   "id": "272f7aa9",
   "metadata": {},
   "source": [
    "Question 7- Write a regular expression in Python to split a string into uppercase letters.\n",
    "Sample text: “ImportanceOfRegularExpressionsInPython”\n",
    "Expected Output: [‘Importance’, ‘Of’, ‘Regular’, ‘Expression’, ‘In’, ‘Python’]\n"
   ]
  },
  {
   "cell_type": "code",
   "execution_count": 7,
   "id": "2774246d",
   "metadata": {},
   "outputs": [
    {
     "name": "stdout",
     "output_type": "stream",
     "text": [
      "['Importance', 'Of', 'Regular', 'Expressions', 'In', 'Python']\n"
     ]
    }
   ],
   "source": [
    "import re\n",
    "\n",
    "def split_on_uppercase(text):\n",
    "    pattern = re.compile(r'(?=[A-Z])')\n",
    "    \n",
    "    result = pattern.split(text)\n",
    "    \n",
    "    result = [word for word in result if word]\n",
    "    \n",
    "    return result\n",
    "\n",
    "sample_text = \"ImportanceOfRegularExpressionsInPython\"\n",
    "result = split_on_uppercase(sample_text)\n",
    "\n",
    "print(result)\n"
   ]
  },
  {
   "cell_type": "markdown",
   "id": "a0f788d4",
   "metadata": {},
   "source": [
    "Question 8- Create a function in python to insert spaces between words starting with numbers.\n",
    "Sample Text: “RegularExpression1IsAn2ImportantTopic3InPython\"\n",
    "Expected Output: RegularExpression 1IsAn 2ImportantTopic 3InPython\n"
   ]
  },
  {
   "cell_type": "code",
   "execution_count": 8,
   "id": "80a273ff",
   "metadata": {},
   "outputs": [
    {
     "name": "stdout",
     "output_type": "stream",
     "text": [
      "Regular Expression  1Is An  2Important Topic  3InPython\n"
     ]
    }
   ],
   "source": [
    "import re\n",
    "\n",
    "def insert_spaces_before_numbers(text):\n",
    "    pattern = re.compile(r'(?=\\d)')\n",
    "    \n",
    "    result = pattern.sub(' ', text)\n",
    "    \n",
    "    return result\n",
    "\n",
    "sample_text = \"Regular Expression 1Is An 2Important Topic 3InPython\"\n",
    "result = insert_spaces_before_numbers(sample_text)\n",
    "\n",
    "print(result)\n"
   ]
  },
  {
   "cell_type": "markdown",
   "id": "9f0b11ec",
   "metadata": {},
   "source": [
    "Question 9- Create a function in python to insert spaces between words starting with capital letters or with numbers.\n",
    "Sample Text: “RegularExpression1IsAn2ImportantTopic3InPython\"\n",
    "Expected Output:  RegularExpression 1 IsAn 2 ImportantTopic 3 InPython\n"
   ]
  },
  {
   "cell_type": "code",
   "execution_count": 9,
   "id": "059d089e",
   "metadata": {},
   "outputs": [
    {
     "name": "stdout",
     "output_type": "stream",
     "text": [
      "Regular Expression 1 Is An 2 Important Topic 3 In Python\n"
     ]
    }
   ],
   "source": [
    "import re\n",
    "\n",
    "def insert_spaces_before_capitals_or_numbers(text):\n",
    "    pattern = re.compile(r'(?=[A-Z0-9])')\n",
    "    \n",
    "    result = pattern.sub(' ', text)\n",
    "    \n",
    "    result = re.sub(r'\\s+', ' ', result).strip()\n",
    "    \n",
    "    return result\n",
    "\n",
    "sample_text = \"RegularExpression1IsAn2ImportantTopic3InPython\"\n",
    "result = insert_spaces_before_capitals_or_numbers(sample_text)\n",
    "\n",
    "print(result)\n"
   ]
  },
  {
   "cell_type": "markdown",
   "id": "1e6481ef",
   "metadata": {},
   "source": [
    "Question 10- Use the github link below to read the data and create a dataframe. After creating the dataframe extract the first 6 letters of each country and store in the dataframe under a new column called first_five_letters.\n",
    "Github Link-  https://raw.githubusercontent.com/dsrscientist/DSData/master/happiness_score_dataset.csv\n"
   ]
  },
  {
   "cell_type": "code",
   "execution_count": 10,
   "id": "aaabe717",
   "metadata": {},
   "outputs": [
    {
     "name": "stdout",
     "output_type": "stream",
     "text": [
      "       Country first_six_letters\n",
      "0  Switzerland            Switze\n",
      "1      Iceland            Icelan\n",
      "2      Denmark            Denmar\n",
      "3       Norway            Norway\n",
      "4       Canada            Canada\n"
     ]
    }
   ],
   "source": [
    "import pandas as pd\n",
    "\n",
    "url = 'https://raw.githubusercontent.com/dsrscientist/DSData/master/happiness_score_dataset.csv'\n",
    "df = pd.read_csv(url)\n",
    "\n",
    "df['first_six_letters'] = df['Country'].str[:6]\n",
    "\n",
    "print(df[['Country', 'first_six_letters']].head())\n"
   ]
  },
  {
   "cell_type": "markdown",
   "id": "181cd2ee",
   "metadata": {},
   "source": [
    "Question 11- Write a Python program to match a string that contains only upper and lowercase letters, numbers, and underscores."
   ]
  },
  {
   "cell_type": "code",
   "execution_count": 11,
   "id": "22cfbb71",
   "metadata": {},
   "outputs": [
    {
     "name": "stdout",
     "output_type": "stream",
     "text": [
      "Valid_String123: True\n",
      "Invalid-String!: False\n",
      "Another_Valid123: True\n",
      "Invalid String: False\n",
      "123456: True\n",
      "_underscore_: True\n",
      "mixedCASE123_: True\n"
     ]
    }
   ],
   "source": [
    "import re\n",
    "\n",
    "def match_string(s):\n",
    "    pattern = re.compile(r'^[A-Za-z0-9_]+$')\n",
    "    \n",
    "    if pattern.match(s):\n",
    "        return True\n",
    "    else:\n",
    "        return False\n",
    "\n",
    "test_strings = [\n",
    "    \"Valid_String123\",\n",
    "    \"Invalid-String!\",\n",
    "    \"Another_Valid123\",\n",
    "    \"Invalid String\",\n",
    "    \"123456\",\n",
    "    \"_underscore_\",\n",
    "    \"mixedCASE123_\"\n",
    "]\n",
    "\n",
    "for s in test_strings:\n",
    "    print(f\"{s}: {match_string(s)}\")\n"
   ]
  },
  {
   "cell_type": "markdown",
   "id": "edc62136",
   "metadata": {},
   "source": [
    "Question 12- Write a Python program where a string will start with a specific number. "
   ]
  },
  {
   "cell_type": "code",
   "execution_count": 12,
   "id": "719f0aa5",
   "metadata": {},
   "outputs": [
    {
     "name": "stdout",
     "output_type": "stream",
     "text": [
      "'123abc' starts with '123': True\n",
      "'456xyz' starts with '123': False\n",
      "'abc123' starts with '123': False\n",
      "'1234hello' starts with '123': True\n",
      "'test456' starts with '123': False\n"
     ]
    }
   ],
   "source": [
    "import re\n",
    "\n",
    "def starts_with_number(s, number):\n",
    "    pattern = re.compile(rf'^{re.escape(number)}')\n",
    "    \n",
    "    return bool(pattern.match(s))\n",
    "\n",
    "test_strings = [\n",
    "    \"123abc\",\n",
    "    \"456xyz\",\n",
    "    \"abc123\",\n",
    "    \"1234hello\",\n",
    "    \"test456\"\n",
    "]\n",
    "\n",
    "number = \"123\"\n",
    "\n",
    "for s in test_strings:\n",
    "    result = starts_with_number(s, number)\n",
    "    print(f\"'{s}' starts with '{number}': {result}\")\n"
   ]
  },
  {
   "cell_type": "markdown",
   "id": "46a21154",
   "metadata": {},
   "source": [
    "Question 13- Write a Python program to remove leading zeros from an IP address"
   ]
  },
  {
   "cell_type": "code",
   "execution_count": 13,
   "id": "5a6a5374",
   "metadata": {},
   "outputs": [
    {
     "name": "stdout",
     "output_type": "stream",
     "text": [
      "Original IP: 192.068.001.045\n",
      "Cleaned IP: 192.68.1.45\n"
     ]
    }
   ],
   "source": [
    "def remove_leading_zeros(ip_address):\n",
    "    octets = ip_address.split('.')\n",
    "    \n",
    "    cleaned_octets = [str(int(octet)) for octet in octets]\n",
    "    \n",
    "    cleaned_ip_address = '.'.join(cleaned_octets)\n",
    "    \n",
    "    return cleaned_ip_address\n",
    "\n",
    "ip_address = \"192.068.001.045\"\n",
    "cleaned_ip = remove_leading_zeros(ip_address)\n",
    "\n",
    "print(f\"Original IP: {ip_address}\")\n",
    "print(f\"Cleaned IP: {cleaned_ip}\")\n"
   ]
  },
  {
   "cell_type": "markdown",
   "id": "c6c0408e",
   "metadata": {},
   "source": [
    "Question 14- Write a regular expression in python to match a date string in the form of Month name followed by day number and year stored in a text file.\n",
    "Sample text :  ' On August 15th 1947 that India was declared independent from British colonialism, and the reins of control were handed over to the leaders of the Country’.\n",
    "Expected Output- August 15th 1947\n",
    "Note- Store given sample text in the text file and then extract the date string asked format.\n"
   ]
  },
  {
   "cell_type": "code",
   "execution_count": 14,
   "id": "0402d98e",
   "metadata": {},
   "outputs": [],
   "source": [
    "sample_text = \"On August 15th 1947 that India was declared independent from British colonialism, and the reins of control were handed over to the leaders of the Country.\"\n",
    "\n",
    "with open('sample_text.txt', 'w') as file:\n",
    "    file.write(sample_text)\n"
   ]
  },
  {
   "cell_type": "code",
   "execution_count": 15,
   "id": "1efd9f7f",
   "metadata": {},
   "outputs": [
    {
     "name": "stdout",
     "output_type": "stream",
     "text": [
      "Extracted Date String: August 15th 1947\n"
     ]
    }
   ],
   "source": [
    "import re\n",
    "\n",
    "def extract_date_string(filename):\n",
    "    pattern = re.compile(r'\\b([A-Za-z]+ \\d{1,2}(?:st|nd|rd|th)? \\d{4})\\b')\n",
    "    \n",
    "    with open(filename, 'r') as file:\n",
    "        content = file.read()\n",
    "    \n",
    "    match = pattern.search(content)\n",
    "    \n",
    "    return match.group(0) if match else None\n",
    "\n",
    "filename = 'sample_text.txt'\n",
    "date_string = extract_date_string(filename)\n",
    "\n",
    "print(f\"Extracted Date String: {date_string}\")\n"
   ]
  },
  {
   "cell_type": "markdown",
   "id": "29c2aca9",
   "metadata": {},
   "source": [
    "Question 15- Write a Python program to search some literals strings in a string. \n",
    "Sample text : 'The quick brown fox jumps over the lazy dog.'\n",
    "Searched words : 'fox', 'dog', 'horse'\n"
   ]
  },
  {
   "cell_type": "code",
   "execution_count": 16,
   "id": "2206466b",
   "metadata": {},
   "outputs": [
    {
     "name": "stdout",
     "output_type": "stream",
     "text": [
      "'fox': Found\n",
      "'dog': Found\n",
      "'horse': Not Found\n"
     ]
    }
   ],
   "source": [
    "def search_literals(text, words_to_search):\n",
    "    results = {}\n",
    "    for word in words_to_search:\n",
    "        if word in text:\n",
    "            results[word] = \"Found\"\n",
    "        else:\n",
    "            results[word] = \"Not Found\"\n",
    "    return results\n",
    "\n",
    "sample_text = 'The quick brown fox jumps over the lazy dog.'\n",
    "\n",
    "searched_words = ['fox', 'dog', 'horse']\n",
    "\n",
    "search_results = search_literals(sample_text, searched_words)\n",
    "\n",
    "for word, result in search_results.items():\n",
    "    print(f\"'{word}': {result}\")\n"
   ]
  },
  {
   "cell_type": "markdown",
   "id": "2ff036a0",
   "metadata": {},
   "source": [
    "Question 16- Write a Python program to search a literals string in a string and also find the location within the original string where the pattern occurs\n",
    "Sample text : 'The quick brown fox jumps over the lazy dog.'\n",
    "Searched words : 'fox'\n"
   ]
  },
  {
   "cell_type": "code",
   "execution_count": 17,
   "id": "bc687b8e",
   "metadata": {},
   "outputs": [
    {
     "name": "stdout",
     "output_type": "stream",
     "text": [
      "'fox' found at indices: [16]\n"
     ]
    }
   ],
   "source": [
    "import re\n",
    "\n",
    "def find_literal_location_regex(text, word):\n",
    "    pattern = re.compile(re.escape(word))\n",
    "    \n",
    "    matches = pattern.finditer(text)\n",
    "    \n",
    "    locations = [match.start() for match in matches]\n",
    "    \n",
    "    if locations:\n",
    "        return locations\n",
    "    else:\n",
    "        return \"Not Found\"\n",
    "\n",
    "sample_text = 'The quick brown fox jumps over the lazy dog.'\n",
    "\n",
    "searched_word = 'fox'\n",
    "\n",
    "locations = find_literal_location_regex(sample_text, searched_word)\n",
    "\n",
    "if locations != \"Not Found\":\n",
    "    print(f\"'{searched_word}' found at indices: {locations}\")\n",
    "else:\n",
    "    print(f\"'{searched_word}' not found.\")\n"
   ]
  },
  {
   "cell_type": "markdown",
   "id": "e2b5873a",
   "metadata": {},
   "source": [
    "Question 17- Write a Python program to find the substrings within a string.\n",
    "Sample text : 'Python exercises, PHP exercises, C# exercises'\n",
    "Pattern : 'exercises'.\n"
   ]
  },
  {
   "cell_type": "code",
   "execution_count": 18,
   "id": "33eb6bde",
   "metadata": {},
   "outputs": [
    {
     "name": "stdout",
     "output_type": "stream",
     "text": [
      "Substrings matching 'exercises': ['exercises', 'exercises', 'exercises']\n"
     ]
    }
   ],
   "source": [
    "def find_substrings(text, pattern):\n",
    "    start = 0\n",
    "    results = []\n",
    "    \n",
    "    while True:\n",
    "        start = text.find(pattern, start)\n",
    "        if start == -1:\n",
    "            break\n",
    "        end = start + len(pattern)\n",
    "        results.append(text[start:end])\n",
    "        start = end  \n",
    "    \n",
    "    return results\n",
    "\n",
    "sample_text = 'Python exercises, PHP exercises, C# exercises'\n",
    "\n",
    "pattern = 'exercises'\n",
    "\n",
    "substrings = find_substrings(sample_text, pattern)\n",
    "\n",
    "print(f\"Substrings matching '{pattern}': {substrings}\")\n"
   ]
  },
  {
   "cell_type": "markdown",
   "id": "103b6533",
   "metadata": {},
   "source": [
    "Question 18- Write a Python program to find the occurrence and position of the substrings within a string."
   ]
  },
  {
   "cell_type": "code",
   "execution_count": 19,
   "id": "4c8f89a9",
   "metadata": {},
   "outputs": [
    {
     "name": "stdout",
     "output_type": "stream",
     "text": [
      "Occurrences and positions of 'exercises': [(7, 16), (22, 31), (36, 45)]\n"
     ]
    }
   ],
   "source": [
    "def find_occurrences_and_positions(text, pattern):\n",
    "    positions = []\n",
    "    start = 0\n",
    "    \n",
    "    while True:\n",
    "        start = text.find(pattern, start)\n",
    "        if start == -1:\n",
    "            break\n",
    "        end = start + len(pattern)\n",
    "        positions.append((start, end))\n",
    "        start = end  \n",
    "    \n",
    "    return positions\n",
    "\n",
    "sample_text = 'Python exercises, PHP exercises, C# exercises'\n",
    "\n",
    "pattern = 'exercises'\n",
    "\n",
    "occurrences_and_positions = find_occurrences_and_positions(sample_text, pattern)\n",
    "\n",
    "print(f\"Occurrences and positions of '{pattern}': {occurrences_and_positions}\")\n"
   ]
  },
  {
   "cell_type": "markdown",
   "id": "9a3e82cd",
   "metadata": {},
   "source": [
    "Question 19- Write a Python program to convert a date of yyyy-mm-dd format to dd-mm-yyyy format."
   ]
  },
  {
   "cell_type": "code",
   "execution_count": 20,
   "id": "f87f4c9e",
   "metadata": {},
   "outputs": [
    {
     "name": "stdout",
     "output_type": "stream",
     "text": [
      "Original date: 2024-08-24\n",
      "Converted date: 24-08-2024\n"
     ]
    }
   ],
   "source": [
    "def convert_date_format(date_str):\n",
    "    year, month, day = date_str.split('-')\n",
    "    \n",
    "    new_format = f\"{day}-{month}-{year}\"\n",
    "    \n",
    "    return new_format\n",
    "\n",
    "date_str = '2024-08-24'\n",
    "\n",
    "converted_date = convert_date_format(date_str)\n",
    "\n",
    "print(f\"Original date: {date_str}\")\n",
    "print(f\"Converted date: {converted_date}\")\n"
   ]
  },
  {
   "cell_type": "code",
   "execution_count": 21,
   "id": "043cb4bb",
   "metadata": {},
   "outputs": [
    {
     "name": "stdout",
     "output_type": "stream",
     "text": [
      "Decimal numbers with 1 or 2 decimal places: ['01.12', '145.8', '3.01', '27.25', '0.25']\n"
     ]
    }
   ],
   "source": [
    "import re\n",
    "\n",
    "def find_decimal_numbers(text):\n",
    "    pattern = re.compile(r'\\b\\d*\\.\\d{1,2}\\b')\n",
    "    \n",
    "    matches = pattern.findall(text)\n",
    "    \n",
    "    return matches\n",
    "\n",
    "sample_text = \"01.12 0132.123 2.31875 145.8 3.01 27.25 0.25\"\n",
    "\n",
    "decimal_numbers = find_decimal_numbers(sample_text)\n",
    "\n",
    "print(f\"Decimal numbers with 1 or 2 decimal places: {decimal_numbers}\")\n"
   ]
  },
  {
   "cell_type": "markdown",
   "id": "a08ba020",
   "metadata": {},
   "source": [
    "Question 21- Write a Python program to separate and print the numbers and their position of a given string"
   ]
  },
  {
   "cell_type": "code",
   "execution_count": 22,
   "id": "8c41042e",
   "metadata": {},
   "outputs": [
    {
     "name": "stdout",
     "output_type": "stream",
     "text": [
      "Numbers and their positions:\n",
      "Number: 42, Position: 23\n",
      "Number: 3.14, Position: 27\n",
      "Number: 256, Position: 33\n",
      "Number: 7.89, Position: 41\n"
     ]
    }
   ],
   "source": [
    "import re\n",
    "\n",
    "def find_numbers_and_positions(text):\n",
    "    pattern = re.compile(r'\\d+\\.?\\d*')\n",
    "    \n",
    "    matches = pattern.finditer(text)\n",
    "    \n",
    "    numbers_and_positions = [(match.group(), match.start()) for match in matches]\n",
    "    \n",
    "    return numbers_and_positions\n",
    "\n",
    "sample_text = \"Here are some numbers: 42, 3.14, 256 and 7.89.\"\n",
    "\n",
    "numbers_and_positions = find_numbers_and_positions(sample_text)\n",
    "\n",
    "print(\"Numbers and their positions:\")\n",
    "for number, position in numbers_and_positions:\n",
    "    print(f\"Number: {number}, Position: {position}\")\n"
   ]
  },
  {
   "cell_type": "markdown",
   "id": "22d573f0",
   "metadata": {},
   "source": [
    "Question 22- Write a regular expression in python program to extract maximum/largest numeric value from a string.\n",
    "Sample Text:  'My marks in each semester are: 947, 896, 926, 524, 734, 950, 642'\n",
    "Expected Output: 950\n"
   ]
  },
  {
   "cell_type": "code",
   "execution_count": 23,
   "id": "0b59233c",
   "metadata": {},
   "outputs": [
    {
     "name": "stdout",
     "output_type": "stream",
     "text": [
      "Maximum numeric value: 950\n"
     ]
    }
   ],
   "source": [
    "import re\n",
    "\n",
    "def extract_max_numeric_value(text):\n",
    "    pattern = re.compile(r'\\d+')\n",
    "    \n",
    "    matches = pattern.findall(text)\n",
    "    \n",
    "    numbers = [int(match) for match in matches]\n",
    "    \n",
    "    if numbers:\n",
    "        max_value = max(numbers)\n",
    "    else:\n",
    "        max_value = None\n",
    "    \n",
    "    return max_value\n",
    "\n",
    "sample_text = 'My marks in each semester are: 947, 896, 926, 524, 734, 950, 642'\n",
    "\n",
    "max_value = extract_max_numeric_value(sample_text)\n",
    "\n",
    "print(f\"Maximum numeric value: {max_value}\")\n"
   ]
  },
  {
   "cell_type": "markdown",
   "id": "887ae154",
   "metadata": {},
   "source": [
    "Question 23- Create a function in python to insert spaces between words starting with capital letters.\n",
    "Sample Text: “RegularExpressionIsAnImportantTopicInPython\"\n",
    "Expected Output: Regular Expression Is An Important Topic In Python\n"
   ]
  },
  {
   "cell_type": "code",
   "execution_count": 25,
   "id": "fc27f5c2",
   "metadata": {},
   "outputs": [
    {
     "name": "stdout",
     "output_type": "stream",
     "text": [
      "Original text: RegularExpressionIsAnImportantTopicInPython\n",
      "Text with spaces: RegularExpressionIsAnImportantTopicInPython\n"
     ]
    }
   ],
   "source": [
    "import re\n",
    "\n",
    "def insert_spaces(text):\n",
    "    pattern = re.compile(r'(?<!^)(?<!\\s)(?<!\\d)(?<![a-z])(?=[A-Z])')\n",
    "    \n",
    "    spaced_text = pattern.sub(' ', text)\n",
    "    \n",
    "    return spaced_text\n",
    "\n",
    "sample_text = \"RegularExpressionIsAnImportantTopicInPython\"\n",
    "\n",
    "result = insert_spaces(sample_text)\n",
    "\n",
    "print(f\"Original text: {sample_text}\")\n",
    "print(f\"Text with spaces: {result}\")\n"
   ]
  },
  {
   "cell_type": "markdown",
   "id": "f9bb16ae",
   "metadata": {},
   "source": [
    "Question 24- Python regex to find sequences of one upper case letter followed by lower case letters"
   ]
  },
  {
   "cell_type": "code",
   "execution_count": 26,
   "id": "f41721f0",
   "metadata": {},
   "outputs": [
    {
     "name": "stdout",
     "output_type": "stream",
     "text": [
      "Sequences of one uppercase letter followed by lowercase letters: ['Here', 'Python', 'Regex']\n"
     ]
    }
   ],
   "source": [
    "import re\n",
    "\n",
    "def find_uppercase_lowercase_sequences(text):\n",
    "    pattern = re.compile(r'\\b[A-Z][a-z]+\\b')\n",
    "    \n",
    "    matches = pattern.findall(text)\n",
    "    \n",
    "    return matches\n",
    "\n",
    "sample_text = \"Here are some examples: Python, Regex, CamelCase, AnExample.\"\n",
    "\n",
    "sequences = find_uppercase_lowercase_sequences(sample_text)\n",
    "\n",
    "print(f\"Sequences of one uppercase letter followed by lowercase letters: {sequences}\")\n"
   ]
  },
  {
   "cell_type": "markdown",
   "id": "304d099e",
   "metadata": {},
   "source": [
    "Question 25- Write a Python program to remove continuous duplicate words from Sentence using Regular Expression.\n",
    "Sample Text: \"Hello hello world world\"\n",
    "Expected Output: Hello hello world"
   ]
  },
  {
   "cell_type": "code",
   "execution_count": 27,
   "id": "cf8a566d",
   "metadata": {},
   "outputs": [
    {
     "name": "stdout",
     "output_type": "stream",
     "text": [
      "Original sentence: Hello hello world world\n",
      "Cleaned sentence: Hello world\n"
     ]
    }
   ],
   "source": [
    "import re\n",
    "\n",
    "def remove_continuous_duplicates(sentence):\n",
    "    pattern = re.compile(r'\\b(\\w+)\\s+\\1\\b', re.IGNORECASE)\n",
    "    \n",
    "    result = pattern.sub(r'\\1', sentence)\n",
    "    \n",
    "    return result\n",
    "\n",
    "sample_text = \"Hello hello world world\"\n",
    "\n",
    "cleaned_sentence = remove_continuous_duplicates(sample_text)\n",
    "\n",
    "print(f\"Original sentence: {sample_text}\")\n",
    "print(f\"Cleaned sentence: {cleaned_sentence}\")\n"
   ]
  },
  {
   "cell_type": "markdown",
   "id": "78f5bd86",
   "metadata": {},
   "source": [
    "Question 26-  Write a python program using RegEx to accept string ending with alphanumeric character."
   ]
  },
  {
   "cell_type": "code",
   "execution_count": 28,
   "id": "f041876c",
   "metadata": {},
   "outputs": [
    {
     "name": "stdout",
     "output_type": "stream",
     "text": [
      "'HelloWorld123' ends with an alphanumeric character: True\n",
      "'Test String!' ends with an alphanumeric character: False\n",
      "'12345' ends with an alphanumeric character: True\n",
      "'SpecialChar$' ends with an alphanumeric character: False\n",
      "'EndWithCharA' ends with an alphanumeric character: True\n"
     ]
    }
   ],
   "source": [
    "import re\n",
    "\n",
    "def ends_with_alphanumeric(text):\n",
    "    pattern = re.compile(r'[a-zA-Z0-9]$')\n",
    "    \n",
    "    if pattern.search(text):\n",
    "        return True\n",
    "    else:\n",
    "        return False\n",
    "\n",
    "sample_texts = [\n",
    "    \"HelloWorld123\",\n",
    "    \"Test String!\",\n",
    "    \"12345\",\n",
    "    \"SpecialChar$\",\n",
    "    \"EndWithCharA\"\n",
    "]\n",
    "\n",
    "for text in sample_texts:\n",
    "    result = ends_with_alphanumeric(text)\n",
    "    print(f\"'{text}' ends with an alphanumeric character: {result}\")\n"
   ]
  },
  {
   "cell_type": "markdown",
   "id": "8cd6c327",
   "metadata": {},
   "source": [
    "Question 27-Write a python program using RegEx to extract the hashtags.\n",
    "Sample Text:  \"\"\"RT @kapil_kausik: #Doltiwal I mean #xyzabc is \"hurt\" by #Demonetization as the same has rendered USELESS <ed><U+00A0><U+00BD><ed><U+00B1><U+0089> \"acquired funds\" No wo\"\"\"\n",
    "Expected Output: ['#Doltiwal', '#xyzabc', '#Demonetization']\n"
   ]
  },
  {
   "cell_type": "code",
   "execution_count": 29,
   "id": "e0641fb2",
   "metadata": {},
   "outputs": [
    {
     "name": "stdout",
     "output_type": "stream",
     "text": [
      "Extracted hashtags: ['#Doltiwal', '#xyzabc', '#Demonetization']\n"
     ]
    }
   ],
   "source": [
    "import re\n",
    "\n",
    "def extract_hashtags(text):\n",
    "    pattern = re.compile(r'#\\w+')\n",
    "    \n",
    "    hashtags = pattern.findall(text)\n",
    "    \n",
    "    return hashtags\n",
    "\n",
    "sample_text = \"\"\"RT @kapil_kausik: #Doltiwal I mean #xyzabc is \"hurt\" by #Demonetization as the same has rendered USELESS <ed><U+00A0><U+00BD><ed><U+00B1><U+0089> \"acquired funds\" No wo\"\"\"\n",
    "\n",
    "hashtags = extract_hashtags(sample_text)\n",
    "\n",
    "print(f\"Extracted hashtags: {hashtags}\")\n"
   ]
  },
  {
   "cell_type": "markdown",
   "id": "8522be5d",
   "metadata": {},
   "source": [
    "Question 28- Write a python program using RegEx to remove <U+..> like symbols\n",
    "Check the below sample text, there are strange symbols something of the sort <U+..> all over the place. You need to come up with a general Regex expression that will cover all such symbols.\n",
    "Sample Text: \"@Jags123456 Bharat band on 28??<ed><U+00A0><U+00BD><ed><U+00B8><U+0082>Those who  are protesting #demonetization  are all different party leaders\"\n",
    "Expected Output: @Jags123456 Bharat band on 28??<ed><ed>Those who  are protesting #demonetization  are all different party leaders\n"
   ]
  },
  {
   "cell_type": "code",
   "execution_count": 30,
   "id": "ad21a48d",
   "metadata": {},
   "outputs": [
    {
     "name": "stdout",
     "output_type": "stream",
     "text": [
      "Original text: @Jags123456 Bharat band on 28??<ed><U+00A0><U+00BD><ed><U+00B8><U+0082>Those who are protesting #demonetization are all different party leaders\n",
      "Cleaned text: @Jags123456 Bharat band on 28??<ed><ed>Those who are protesting #demonetization are all different party leaders\n"
     ]
    }
   ],
   "source": [
    "import re\n",
    "\n",
    "def remove_unicode_symbols(text):\n",
    "    pattern = re.compile(r'<U\\+[0-9A-Fa-f]{4}>')\n",
    "    \n",
    "    cleaned_text = pattern.sub('', text)\n",
    "    \n",
    "    return cleaned_text\n",
    "\n",
    "sample_text = \"@Jags123456 Bharat band on 28??<ed><U+00A0><U+00BD><ed><U+00B8><U+0082>Those who are protesting #demonetization are all different party leaders\"\n",
    "\n",
    "cleaned_text = remove_unicode_symbols(sample_text)\n",
    "\n",
    "print(f\"Original text: {sample_text}\")\n",
    "print(f\"Cleaned text: {cleaned_text}\")\n"
   ]
  },
  {
   "cell_type": "markdown",
   "id": "a6a36b54",
   "metadata": {},
   "source": [
    "Question 29- Write a python program to extract dates from the text stored in the text file.\n",
    "Sample Text: Ron was born on 12-09-1992 and he was admitted to school 15-12-1999.\n",
    "Note- Store this sample text in the file and then extract dates.\n"
   ]
  },
  {
   "cell_type": "code",
   "execution_count": 31,
   "id": "04a0b0eb",
   "metadata": {},
   "outputs": [
    {
     "name": "stdout",
     "output_type": "stream",
     "text": [
      "Extracted dates: []\n"
     ]
    }
   ],
   "source": [
    "import re\n",
    "\n",
    "def extract_dates_from_file(file_path):\n",
    "    date_pattern = re.compile(r'\\b\\d{2}-\\d{2}-\\d{4}\\b')\n",
    "    \n",
    "    with open(file_path, 'r') as file:\n",
    "        text = file.read()\n",
    "    \n",
    "    dates = date_pattern.findall(text)\n",
    "    \n",
    "    return dates\n",
    "\n",
    "file_path = 'sample_text.txt'\n",
    "\n",
    "dates = extract_dates_from_file(file_path)\n",
    "\n",
    "print(f\"Extracted dates: {dates}\")\n"
   ]
  },
  {
   "cell_type": "markdown",
   "id": "2ae20cc4",
   "metadata": {},
   "source": [
    "Question 30- Create a function in python to remove all words from a string of length between 2 and 4.\n",
    "The use of the re.compile() method is mandatory.\n",
    "Sample Text: \"The following example creates an ArrayList with a capacity of 50 elements. 4 elements are then added to the ArrayList and the ArrayList is trimmed accordingly.\"\n",
    "Expected Output:  following example creates ArrayList a capacity elements. 4 elements added ArrayList ArrayList trimmed accordingly.\n"
   ]
  },
  {
   "cell_type": "code",
   "execution_count": 32,
   "id": "3b0dea36",
   "metadata": {},
   "outputs": [
    {
     "name": "stdout",
     "output_type": "stream",
     "text": [
      "Original text: The following example creates an ArrayList with a capacity of 50 elements. 4 elements are then added to the ArrayList and the ArrayList is trimmed accordingly.\n",
      "Processed text: following example creates ArrayList a capacity elements. 4 elements added ArrayList ArrayList trimmed accordingly.\n"
     ]
    }
   ],
   "source": [
    "import re\n",
    "\n",
    "def remove_short_words(text):\n",
    "    pattern = re.compile(r'\\b\\w{2,4}\\b')\n",
    "    \n",
    "    cleaned_text = pattern.sub('', text)\n",
    "    \n",
    "    cleaned_text = re.sub(r'\\s+', ' ', cleaned_text).strip()\n",
    "    \n",
    "    return cleaned_text\n",
    "\n",
    "sample_text = \"The following example creates an ArrayList with a capacity of 50 elements. 4 elements are then added to the ArrayList and the ArrayList is trimmed accordingly.\"\n",
    "\n",
    "result = remove_short_words(sample_text)\n",
    "\n",
    "print(f\"Original text: {sample_text}\")\n",
    "print(f\"Processed text: {result}\")\n"
   ]
  },
  {
   "cell_type": "code",
   "execution_count": null,
   "id": "cf280ac0",
   "metadata": {},
   "outputs": [],
   "source": []
  }
 ],
 "metadata": {
  "kernelspec": {
   "display_name": "Python 3 (ipykernel)",
   "language": "python",
   "name": "python3"
  },
  "language_info": {
   "codemirror_mode": {
    "name": "ipython",
    "version": 3
   },
   "file_extension": ".py",
   "mimetype": "text/x-python",
   "name": "python",
   "nbconvert_exporter": "python",
   "pygments_lexer": "ipython3",
   "version": "3.11.5"
  }
 },
 "nbformat": 4,
 "nbformat_minor": 5
}
